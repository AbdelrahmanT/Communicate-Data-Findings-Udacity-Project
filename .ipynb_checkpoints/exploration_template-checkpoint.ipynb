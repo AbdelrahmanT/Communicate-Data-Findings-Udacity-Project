{
 "cells": [
  {
   "cell_type": "markdown",
   "metadata": {},
   "source": [
    "# (Dataset Exploration Title)\n",
    "## by (Abdelrahman Talaat)\n",
    "\n",
    "## Preliminary Wrangling\n",
    "\n",
    "> This document explored a dataset containing information about 183412 ford go bike trip"
   ]
  },
  {
   "cell_type": "code",
   "execution_count": 65,
   "metadata": {},
   "outputs": [],
   "source": [
    "# import all packages and set plots to be embedded inline\n",
    "import numpy as np\n",
    "import pandas as pd\n",
    "import matplotlib.pyplot as plt\n",
    "import seaborn as sb\n",
    "\n",
    "%matplotlib inline"
   ]
  },
  {
   "cell_type": "code",
   "execution_count": 2,
   "metadata": {},
   "outputs": [
    {
     "data": {
      "text/html": [
       "<div>\n",
       "<style scoped>\n",
       "    .dataframe tbody tr th:only-of-type {\n",
       "        vertical-align: middle;\n",
       "    }\n",
       "\n",
       "    .dataframe tbody tr th {\n",
       "        vertical-align: top;\n",
       "    }\n",
       "\n",
       "    .dataframe thead th {\n",
       "        text-align: right;\n",
       "    }\n",
       "</style>\n",
       "<table border=\"1\" class=\"dataframe\">\n",
       "  <thead>\n",
       "    <tr style=\"text-align: right;\">\n",
       "      <th></th>\n",
       "      <th>duration_sec</th>\n",
       "      <th>start_time</th>\n",
       "      <th>end_time</th>\n",
       "      <th>start_station_id</th>\n",
       "      <th>start_station_name</th>\n",
       "      <th>start_station_latitude</th>\n",
       "      <th>start_station_longitude</th>\n",
       "      <th>end_station_id</th>\n",
       "      <th>end_station_name</th>\n",
       "      <th>end_station_latitude</th>\n",
       "      <th>end_station_longitude</th>\n",
       "      <th>bike_id</th>\n",
       "      <th>user_type</th>\n",
       "      <th>member_birth_year</th>\n",
       "      <th>member_gender</th>\n",
       "      <th>bike_share_for_all_trip</th>\n",
       "    </tr>\n",
       "  </thead>\n",
       "  <tbody>\n",
       "    <tr>\n",
       "      <th>0</th>\n",
       "      <td>52185</td>\n",
       "      <td>2019-02-28 17:32:10.1450</td>\n",
       "      <td>2019-03-01 08:01:55.9750</td>\n",
       "      <td>21.0</td>\n",
       "      <td>Montgomery St BART Station (Market St at 2nd St)</td>\n",
       "      <td>37.789625</td>\n",
       "      <td>-122.400811</td>\n",
       "      <td>13.0</td>\n",
       "      <td>Commercial St at Montgomery St</td>\n",
       "      <td>37.794231</td>\n",
       "      <td>-122.402923</td>\n",
       "      <td>4902</td>\n",
       "      <td>Customer</td>\n",
       "      <td>1984.0</td>\n",
       "      <td>Male</td>\n",
       "      <td>No</td>\n",
       "    </tr>\n",
       "    <tr>\n",
       "      <th>1</th>\n",
       "      <td>42521</td>\n",
       "      <td>2019-02-28 18:53:21.7890</td>\n",
       "      <td>2019-03-01 06:42:03.0560</td>\n",
       "      <td>23.0</td>\n",
       "      <td>The Embarcadero at Steuart St</td>\n",
       "      <td>37.791464</td>\n",
       "      <td>-122.391034</td>\n",
       "      <td>81.0</td>\n",
       "      <td>Berry St at 4th St</td>\n",
       "      <td>37.775880</td>\n",
       "      <td>-122.393170</td>\n",
       "      <td>2535</td>\n",
       "      <td>Customer</td>\n",
       "      <td>NaN</td>\n",
       "      <td>NaN</td>\n",
       "      <td>No</td>\n",
       "    </tr>\n",
       "    <tr>\n",
       "      <th>2</th>\n",
       "      <td>61854</td>\n",
       "      <td>2019-02-28 12:13:13.2180</td>\n",
       "      <td>2019-03-01 05:24:08.1460</td>\n",
       "      <td>86.0</td>\n",
       "      <td>Market St at Dolores St</td>\n",
       "      <td>37.769305</td>\n",
       "      <td>-122.426826</td>\n",
       "      <td>3.0</td>\n",
       "      <td>Powell St BART Station (Market St at 4th St)</td>\n",
       "      <td>37.786375</td>\n",
       "      <td>-122.404904</td>\n",
       "      <td>5905</td>\n",
       "      <td>Customer</td>\n",
       "      <td>1972.0</td>\n",
       "      <td>Male</td>\n",
       "      <td>No</td>\n",
       "    </tr>\n",
       "    <tr>\n",
       "      <th>3</th>\n",
       "      <td>36490</td>\n",
       "      <td>2019-02-28 17:54:26.0100</td>\n",
       "      <td>2019-03-01 04:02:36.8420</td>\n",
       "      <td>375.0</td>\n",
       "      <td>Grove St at Masonic Ave</td>\n",
       "      <td>37.774836</td>\n",
       "      <td>-122.446546</td>\n",
       "      <td>70.0</td>\n",
       "      <td>Central Ave at Fell St</td>\n",
       "      <td>37.773311</td>\n",
       "      <td>-122.444293</td>\n",
       "      <td>6638</td>\n",
       "      <td>Subscriber</td>\n",
       "      <td>1989.0</td>\n",
       "      <td>Other</td>\n",
       "      <td>No</td>\n",
       "    </tr>\n",
       "    <tr>\n",
       "      <th>4</th>\n",
       "      <td>1585</td>\n",
       "      <td>2019-02-28 23:54:18.5490</td>\n",
       "      <td>2019-03-01 00:20:44.0740</td>\n",
       "      <td>7.0</td>\n",
       "      <td>Frank H Ogawa Plaza</td>\n",
       "      <td>37.804562</td>\n",
       "      <td>-122.271738</td>\n",
       "      <td>222.0</td>\n",
       "      <td>10th Ave at E 15th St</td>\n",
       "      <td>37.792714</td>\n",
       "      <td>-122.248780</td>\n",
       "      <td>4898</td>\n",
       "      <td>Subscriber</td>\n",
       "      <td>1974.0</td>\n",
       "      <td>Male</td>\n",
       "      <td>Yes</td>\n",
       "    </tr>\n",
       "  </tbody>\n",
       "</table>\n",
       "</div>"
      ],
      "text/plain": [
       "   duration_sec                start_time                  end_time  \\\n",
       "0         52185  2019-02-28 17:32:10.1450  2019-03-01 08:01:55.9750   \n",
       "1         42521  2019-02-28 18:53:21.7890  2019-03-01 06:42:03.0560   \n",
       "2         61854  2019-02-28 12:13:13.2180  2019-03-01 05:24:08.1460   \n",
       "3         36490  2019-02-28 17:54:26.0100  2019-03-01 04:02:36.8420   \n",
       "4          1585  2019-02-28 23:54:18.5490  2019-03-01 00:20:44.0740   \n",
       "\n",
       "   start_station_id                                start_station_name  \\\n",
       "0              21.0  Montgomery St BART Station (Market St at 2nd St)   \n",
       "1              23.0                     The Embarcadero at Steuart St   \n",
       "2              86.0                           Market St at Dolores St   \n",
       "3             375.0                           Grove St at Masonic Ave   \n",
       "4               7.0                               Frank H Ogawa Plaza   \n",
       "\n",
       "   start_station_latitude  start_station_longitude  end_station_id  \\\n",
       "0               37.789625              -122.400811            13.0   \n",
       "1               37.791464              -122.391034            81.0   \n",
       "2               37.769305              -122.426826             3.0   \n",
       "3               37.774836              -122.446546            70.0   \n",
       "4               37.804562              -122.271738           222.0   \n",
       "\n",
       "                               end_station_name  end_station_latitude  \\\n",
       "0                Commercial St at Montgomery St             37.794231   \n",
       "1                            Berry St at 4th St             37.775880   \n",
       "2  Powell St BART Station (Market St at 4th St)             37.786375   \n",
       "3                        Central Ave at Fell St             37.773311   \n",
       "4                         10th Ave at E 15th St             37.792714   \n",
       "\n",
       "   end_station_longitude  bike_id   user_type  member_birth_year  \\\n",
       "0            -122.402923     4902    Customer             1984.0   \n",
       "1            -122.393170     2535    Customer                NaN   \n",
       "2            -122.404904     5905    Customer             1972.0   \n",
       "3            -122.444293     6638  Subscriber             1989.0   \n",
       "4            -122.248780     4898  Subscriber             1974.0   \n",
       "\n",
       "  member_gender bike_share_for_all_trip  \n",
       "0          Male                      No  \n",
       "1           NaN                      No  \n",
       "2          Male                      No  \n",
       "3         Other                      No  \n",
       "4          Male                     Yes  "
      ]
     },
     "execution_count": 2,
     "metadata": {},
     "output_type": "execute_result"
    }
   ],
   "source": [
    "df = pd.read_csv('201902-fordgobike-tripdata.csv')\n",
    "df.head()"
   ]
  },
  {
   "cell_type": "code",
   "execution_count": 3,
   "metadata": {},
   "outputs": [
    {
     "name": "stdout",
     "output_type": "stream",
     "text": [
      "duration_sec                 int64\n",
      "start_time                  object\n",
      "end_time                    object\n",
      "start_station_id           float64\n",
      "start_station_name          object\n",
      "start_station_latitude     float64\n",
      "start_station_longitude    float64\n",
      "end_station_id             float64\n",
      "end_station_name            object\n",
      "end_station_latitude       float64\n",
      "end_station_longitude      float64\n",
      "bike_id                      int64\n",
      "user_type                   object\n",
      "member_birth_year          float64\n",
      "member_gender               object\n",
      "bike_share_for_all_trip     object\n",
      "dtype: object\n",
      "(183412, 16)\n"
     ]
    }
   ],
   "source": [
    "print(df.dtypes)\n",
    "print(df.shape)"
   ]
  },
  {
   "cell_type": "code",
   "execution_count": 4,
   "metadata": {},
   "outputs": [
    {
     "data": {
      "text/plain": [
       "array(['Montgomery St BART Station (Market St at 2nd St)',\n",
       "       'The Embarcadero at Steuart St', 'Market St at Dolores St',\n",
       "       'Grove St at Masonic Ave', 'Frank H Ogawa Plaza',\n",
       "       '4th St at Mission Bay Blvd S', 'Palm St at Willow St',\n",
       "       'Washington St at Kearny St', 'Post St at Kearny St',\n",
       "       'Jones St at Post St',\n",
       "       'Civic Center/UN Plaza BART Station (Market St at McAllister St)',\n",
       "       'Valencia St at 21st St', 'Channing Way at Shattuck Ave',\n",
       "       'Bancroft Way at College Ave', 'Howard St at Mary St',\n",
       "       '22nd St at Dolores St', 'Laguna St at Hayes St',\n",
       "       '5th St at Folsom', 'Telegraph Ave at 23rd St',\n",
       "       'Page St at Scott St', 'Lake Merritt BART Station',\n",
       "       'West St at 40th St', 'The Embarcadero at Sansome St',\n",
       "       'Folsom St at 9th St', 'University Ave at Oxford St',\n",
       "       'MLK Jr Way at University Ave', 'The Embarcadero at Bryant St',\n",
       "       '17th St at Valencia St', 'Valencia St at 16th St',\n",
       "       'Valencia St at 22nd St', 'Franklin Square',\n",
       "       'San Pablo Ave at MLK Jr Way', '19th St at Mission St',\n",
       "       'Market St at 10th St', 'Folsom St at 13th St',\n",
       "       'San Francisco Ferry Building (Harry Bridges Plaza)',\n",
       "       '4th St at 16th St', 'Beale St at Harrison St',\n",
       "       'Broadway at Battery St', 'Cesar Chavez St at Dolores St',\n",
       "       'San Fernando St at 4th St', 'Grove St at Divisadero',\n",
       "       'Sanchez St at 17th St', 'Harmon St at Adeline St',\n",
       "       'Mission Playground', 'Davis St at Jackson St',\n",
       "       'Haste St at Telegraph Ave', 'Howard St at 8th St',\n",
       "       'Folsom St at 3rd St', 'Father Alfred E Boeddeker Park',\n",
       "       'Commercial St at Montgomery St', 'Hubbell St at 16th St',\n",
       "       'San Francisco Public Library (Grove St at Hyde St)',\n",
       "       'Bancroft Way at Telegraph Ave', '19th Street BART Station',\n",
       "       '18th St at Noe St', 'Hyde St at Post St', '24th St at Market St',\n",
       "       'Vine St at Shattuck Ave',\n",
       "       'San Francisco Caltrain (Townsend St at 4th St)',\n",
       "       'Valencia St at Clinton Park',\n",
       "       'Union Square (Powell St at Post St)', 'Broderick St at Oak St',\n",
       "       'San Francisco Caltrain Station 2  (Townsend St at 4th St)',\n",
       "       'North Berkeley BART Station', 'Downtown Berkeley BART',\n",
       "       'Fell St at Stanyan St', 'San Salvador St at 9th St',\n",
       "       'Marston Campbell Park', 'Oregon St at Adeline St',\n",
       "       '11th St at Natoma St', 'Harrison St at 20th St',\n",
       "       'Haste St at College Ave', '24th St at Bartlett St',\n",
       "       'Sanchez St at 15th St', 'Telegraph Ave at 19th St',\n",
       "       'Powell St BART Station (Market St at 5th St)',\n",
       "       'Jersey St at Castro St', 'Pierce St at Haight St',\n",
       "       'MacArthur BART Station', 'El Embarcadero at Grand Ave',\n",
       "       '23rd St at San Bruno Ave', 'Golden Gate Ave at Hyde St',\n",
       "       'S Van Ness Ave at Market St', 'Jackson Playground',\n",
       "       'San Fernando St at 7th St', 'West St at University Ave',\n",
       "       'Myrtle St at Polk St', 'Woolsey St at Sacramento St',\n",
       "       'Townsend St at 7th St', 'Harrison St at 17th St',\n",
       "       'West Oakland BART Station', 'Cyril Magnin St at Ellis St',\n",
       "       'Fulton St at Bancroft Way', '14th St at Mission St',\n",
       "       'San Pedro Square', 'Market St at Franklin St',\n",
       "       'Folsom St at 19th St', 'College Ave at Taft Ave',\n",
       "       'Rhode Island St at 17th St', 'Shattuck Ave at Hearst Ave',\n",
       "       'The Embarcadero at Vallejo St', 'Webster St at Grove St',\n",
       "       'Raymond Kimbell Playground', 'Victoria Manalo Draves Park',\n",
       "       '20th St at Bryant St', 'S Park St at 3rd St',\n",
       "       'Lakeshore Ave at Trestle Glen Rd',\n",
       "       'Channing Way at San Pablo Ave', 'Mission Dolores Park',\n",
       "       'Lombard St at Columbus Ave', '17th St at Dolores St',\n",
       "       'Precita Park', 'Central Ave at Fell St', '4th St at Harrison St',\n",
       "       'Horton St at 40th St', 'Golden Gate Ave at Franklin St',\n",
       "       'Embarcadero BART Station (Beale St at Market St)',\n",
       "       '9th St at San Fernando St', '3rd St at Townsend St',\n",
       "       'McCoppin St at Valencia St', '13th St at Franklin St',\n",
       "       'Mission Bay Kids Park', 'Potrero Ave and Mariposa St',\n",
       "       'Emeryville Public Market', 'Union St at 10th St',\n",
       "       'Jackson St at 11th St', 'Broadway at Kearny',\n",
       "       'Paseo De San Antonio at 2nd St', 'Valencia St at Cesar Chavez St',\n",
       "       'Rockridge BART Station', '8th St at Brannan St',\n",
       "       'College Ave at Alcatraz Ave', '16th St Mission BART Station 2',\n",
       "       'San Jose Diridon Station', 'Masonic Ave at Turk St',\n",
       "       '17th & Folsom Street Park (17th St at Folsom St)',\n",
       "       'Grand Ave at Webster St', '7th St at Brannan St',\n",
       "       'Steuart St at Market St', 'Scott St at Golden Gate Ave',\n",
       "       'Parker St at Fulton St', 'Berkeley Civic Center',\n",
       "       'Clay St at Battery St', '11th St at Bryant St',\n",
       "       'Powell St BART Station (Market St at 4th St)',\n",
       "       'Doyle St at 59th St', '34th St at Telegraph Ave', 'Esprit Park',\n",
       "       'Emeryville Town Hall', 'Division St at Potrero Ave',\n",
       "       'Irwin St at 8th St', 'Pierce Ave at Market St',\n",
       "       'Howard St at Beale St', 'Washington St at 8th St', 'Snow Park',\n",
       "       'Dolores St at 15th St', 'Hearst Ave at Euclid Ave',\n",
       "       'Telegraph Ave at Ashby Ave', '8th St at Ringold St',\n",
       "       '14th St at Mandela Pkwy', 'Morrison Ave at Julian St',\n",
       "       'Church St at Duboce Ave', 'Townsend St at 5th St',\n",
       "       'Valencia St at 24th St', '16th St at Prosper St',\n",
       "       '5th St at Virginia St', \"Webster St at O'Farrell St\",\n",
       "       'Shattuck Ave at Telegraph Ave', 'Jackson St at 5th St',\n",
       "       'Berry St at 4th St', '2nd St at Townsend St',\n",
       "       'Telegraph Ave at Carleton St', 'Ellsworth St at Russell St',\n",
       "       'Adeline St at 40th St', 'Bay Pl at Vernon St',\n",
       "       'Russell St at College Ave', '22nd St Caltrain Station',\n",
       "       'Folsom St at 15th St', nan, 'Ninth St at Heinz Ave',\n",
       "       '15th St at Potrero Ave', '23rd St at Tennessee St',\n",
       "       'McAllister St at Baker St', 'Bryant St at 2nd St',\n",
       "       'Mississippi St at 17th St', 'Ryland Park',\n",
       "       'Fountain Alley at S 2nd St', 'Turk St at Fillmore St',\n",
       "       'Ashby BART Station', 'Shattuck Ave at 51st St',\n",
       "       'Julian St at The Alameda', '20th St at Dolores St',\n",
       "       'Broadway at Coronado Ave', 'Grand Ave at Santa Clara Ave',\n",
       "       'Eureka Valley Recreation Center', 'Parker Ave at McAllister St',\n",
       "       'Berry St at King St',\n",
       "       'Salesforce Transit Center (Natoma St at 2nd St)',\n",
       "       'San Antonio Park', 'Lakeside Dr at 14th St',\n",
       "       '16th St Mission BART', 'Stanford Ave at Hollis St',\n",
       "       'Broadway at 40th St',\n",
       "       'Mechanics Monument Plaza (Market St at Bush St)',\n",
       "       'Madison St at 17th St', 'Grand Ave at Perkins St',\n",
       "       'Garfield Square (25th St at Harrison St)', '53rd St at Hollis St',\n",
       "       '2nd St at Julian St', 'Telegraph Ave at Alcatraz Ave',\n",
       "       'San Francisco City Hall (Polk St at Grove St)',\n",
       "       '5th St at Brannan St', '10th St at Fallon St',\n",
       "       'Yerba Buena Center for the Arts (Howard St at 3rd St)',\n",
       "       '30th St at San Jose Ave', '29th St at Tiffany Ave',\n",
       "       'Webster St at 2nd St', 'Koshland Park', 'Jersey St at Church St',\n",
       "       'Santa Clara St at 7th St', 'Telegraph Ave at 58th St',\n",
       "       'Fruitvale BART Station', 'Addison St at Fourth St',\n",
       "       'Leavenworth St at Broadway', 'Telegraph Ave at 27th St',\n",
       "       'Potrero del Sol Park (25th St at Utah St)',\n",
       "       'Spear St at Folsom St', 'College Ave at Harwood Ave',\n",
       "       \"O'Farrell St at Divisadero St\", '1st St at Folsom St',\n",
       "       'Bryant St at 15th St', 'Golden Gate Ave at Polk St',\n",
       "       '5th St at San Salvador St', '29th St at Church St',\n",
       "       'Alamo Square (Steiner St at Fulton St)',\n",
       "       'Autumn Parkway at Coleman Ave', 'Fulton St at Ashby Ave',\n",
       "       'Howard St at 2nd St', '19th St at Florida St',\n",
       "       'Market St at 45th St', 'Derby St at College Ave',\n",
       "       'Market St at Brockhurst St', 'California St at University Ave',\n",
       "       'MLK Jr Way at 14th St', 'Market St at 40th St',\n",
       "       'Julian St at 6th St', 'Cahill Park', 'San Jose City Hall',\n",
       "       'Virginia St at Shattuck Ave', 'Jack London Square',\n",
       "       'Milvia St at Derby St', 'Webster St at 19th St',\n",
       "       '24th St at Chattanooga St', 'The Alameda at Bush St',\n",
       "       '49th St at Telegraph Ave', 'Broadway at 30th St',\n",
       "       'Bryant St at 6th St', 'Empire St at 1st St',\n",
       "       'China Basin St at 3rd St', '47th St at San Pablo Ave',\n",
       "       'San Salvador St at 1st St', '45th St at Manila',\n",
       "       'San Carlos St at Market St', 'San Pablo Ave at 27th St',\n",
       "       'Market St at Park St', 'Franklin St at 9th St',\n",
       "       'Almaden Blvd at San Fernando St', 'Oak St at 1st St',\n",
       "       'William St at 10th St', 'Isabella St at San Pablo Ave',\n",
       "       'Guerrero Park', '10th St at University Ave', 'DeFremery Park',\n",
       "       'Fifth St at Delaware St', 'Williams Ave at 3rd St',\n",
       "       '4th Ave at E 12th St (Temporary Location)',\n",
       "       'Shattuck Ave at 55th St', '59th St at Horton St', 'SAP Center',\n",
       "       '37th St at West St', 'Almaden Blvd at Balbach St',\n",
       "       '65th St at Hollis St', 'Santa Clara St at Almaden Blvd',\n",
       "       'Ninth St at Parker St', 'Bushrod Park', 'Empire St at 7th St',\n",
       "       'Mendell St at Fairfax Ave', '16th St Depot',\n",
       "       'Newhall St at 3rd St', 'George St at 1st St',\n",
       "       'Mission St at 1st St', 'Duboce Park', 'Locust St at Grant St',\n",
       "       '32nd St at Adeline St', 'Mosswood Park',\n",
       "       'Delmas Ave and San Fernando St', 'Lane St at Revere Ave',\n",
       "       '2nd Ave at E 18th St', 'San Carlos St at 11th St',\n",
       "       'Williams Ave at Apollo St', 'MacArthur Blvd at Telegraph Ave',\n",
       "       'Bestor Art Park', 'College Ave at Bryant Ave',\n",
       "       'Miles Ave at Cavour St', 'Saint James Park',\n",
       "       '14th St at Filbert St', 'Foothill Blvd at Fruitvale Ave',\n",
       "       'Market St at 8th St', 'Backesto Park (Jackson St at 13th St)',\n",
       "       '10th Ave at E 15th St', 'Alcatraz Ave at Shattuck Ave',\n",
       "       '55th St at Telegraph Ave', 'Genoa St at 55th St',\n",
       "       'Dover St at 57th St', 'San Pablo Park',\n",
       "       '6th Ave at E 12th St (Temporary Location)', 'Taylor St at 9th St',\n",
       "       '27th St at MLK Jr Way', 'Foothill Blvd at Harrington Ave',\n",
       "       '23rd Ave at Foothill Blvd', 'San Pedro St at Hedding St',\n",
       "       '45th St at MLK Jr Way', '5th St at Taylor St',\n",
       "       'Foothill Blvd at 42nd Ave', 'Willow St at Vine St',\n",
       "       '26th Ave at International Blvd', 'Farnam St at Fruitvale Ave',\n",
       "       '21st Ave at International Blvd', '2nd St at Folsom St'],\n",
       "      dtype=object)"
      ]
     },
     "execution_count": 4,
     "metadata": {},
     "output_type": "execute_result"
    }
   ],
   "source": [
    "df.start_station_name.unique()"
   ]
  },
  {
   "cell_type": "code",
   "execution_count": 5,
   "metadata": {
    "scrolled": true
   },
   "outputs": [
    {
     "data": {
      "text/html": [
       "<div>\n",
       "<style scoped>\n",
       "    .dataframe tbody tr th:only-of-type {\n",
       "        vertical-align: middle;\n",
       "    }\n",
       "\n",
       "    .dataframe tbody tr th {\n",
       "        vertical-align: top;\n",
       "    }\n",
       "\n",
       "    .dataframe thead th {\n",
       "        text-align: right;\n",
       "    }\n",
       "</style>\n",
       "<table border=\"1\" class=\"dataframe\">\n",
       "  <thead>\n",
       "    <tr style=\"text-align: right;\">\n",
       "      <th></th>\n",
       "      <th>duration_sec</th>\n",
       "      <th>start_station_id</th>\n",
       "      <th>start_station_latitude</th>\n",
       "      <th>start_station_longitude</th>\n",
       "      <th>end_station_id</th>\n",
       "      <th>end_station_latitude</th>\n",
       "      <th>end_station_longitude</th>\n",
       "      <th>bike_id</th>\n",
       "      <th>member_birth_year</th>\n",
       "    </tr>\n",
       "  </thead>\n",
       "  <tbody>\n",
       "    <tr>\n",
       "      <th>count</th>\n",
       "      <td>183412.000000</td>\n",
       "      <td>183215.000000</td>\n",
       "      <td>183412.000000</td>\n",
       "      <td>183412.000000</td>\n",
       "      <td>183215.000000</td>\n",
       "      <td>183412.000000</td>\n",
       "      <td>183412.000000</td>\n",
       "      <td>183412.000000</td>\n",
       "      <td>175147.000000</td>\n",
       "    </tr>\n",
       "    <tr>\n",
       "      <th>mean</th>\n",
       "      <td>726.078435</td>\n",
       "      <td>138.590427</td>\n",
       "      <td>37.771223</td>\n",
       "      <td>-122.352664</td>\n",
       "      <td>136.249123</td>\n",
       "      <td>37.771427</td>\n",
       "      <td>-122.352250</td>\n",
       "      <td>4472.906375</td>\n",
       "      <td>1984.806437</td>\n",
       "    </tr>\n",
       "    <tr>\n",
       "      <th>std</th>\n",
       "      <td>1794.389780</td>\n",
       "      <td>111.778864</td>\n",
       "      <td>0.099581</td>\n",
       "      <td>0.117097</td>\n",
       "      <td>111.515131</td>\n",
       "      <td>0.099490</td>\n",
       "      <td>0.116673</td>\n",
       "      <td>1664.383394</td>\n",
       "      <td>10.116689</td>\n",
       "    </tr>\n",
       "    <tr>\n",
       "      <th>min</th>\n",
       "      <td>61.000000</td>\n",
       "      <td>3.000000</td>\n",
       "      <td>37.317298</td>\n",
       "      <td>-122.453704</td>\n",
       "      <td>3.000000</td>\n",
       "      <td>37.317298</td>\n",
       "      <td>-122.453704</td>\n",
       "      <td>11.000000</td>\n",
       "      <td>1878.000000</td>\n",
       "    </tr>\n",
       "    <tr>\n",
       "      <th>25%</th>\n",
       "      <td>325.000000</td>\n",
       "      <td>47.000000</td>\n",
       "      <td>37.770083</td>\n",
       "      <td>-122.412408</td>\n",
       "      <td>44.000000</td>\n",
       "      <td>37.770407</td>\n",
       "      <td>-122.411726</td>\n",
       "      <td>3777.000000</td>\n",
       "      <td>1980.000000</td>\n",
       "    </tr>\n",
       "    <tr>\n",
       "      <th>50%</th>\n",
       "      <td>514.000000</td>\n",
       "      <td>104.000000</td>\n",
       "      <td>37.780760</td>\n",
       "      <td>-122.398285</td>\n",
       "      <td>100.000000</td>\n",
       "      <td>37.781010</td>\n",
       "      <td>-122.398279</td>\n",
       "      <td>4958.000000</td>\n",
       "      <td>1987.000000</td>\n",
       "    </tr>\n",
       "    <tr>\n",
       "      <th>75%</th>\n",
       "      <td>796.000000</td>\n",
       "      <td>239.000000</td>\n",
       "      <td>37.797280</td>\n",
       "      <td>-122.286533</td>\n",
       "      <td>235.000000</td>\n",
       "      <td>37.797320</td>\n",
       "      <td>-122.288045</td>\n",
       "      <td>5502.000000</td>\n",
       "      <td>1992.000000</td>\n",
       "    </tr>\n",
       "    <tr>\n",
       "      <th>max</th>\n",
       "      <td>85444.000000</td>\n",
       "      <td>398.000000</td>\n",
       "      <td>37.880222</td>\n",
       "      <td>-121.874119</td>\n",
       "      <td>398.000000</td>\n",
       "      <td>37.880222</td>\n",
       "      <td>-121.874119</td>\n",
       "      <td>6645.000000</td>\n",
       "      <td>2001.000000</td>\n",
       "    </tr>\n",
       "  </tbody>\n",
       "</table>\n",
       "</div>"
      ],
      "text/plain": [
       "        duration_sec  start_station_id  start_station_latitude  \\\n",
       "count  183412.000000     183215.000000           183412.000000   \n",
       "mean      726.078435        138.590427               37.771223   \n",
       "std      1794.389780        111.778864                0.099581   \n",
       "min        61.000000          3.000000               37.317298   \n",
       "25%       325.000000         47.000000               37.770083   \n",
       "50%       514.000000        104.000000               37.780760   \n",
       "75%       796.000000        239.000000               37.797280   \n",
       "max     85444.000000        398.000000               37.880222   \n",
       "\n",
       "       start_station_longitude  end_station_id  end_station_latitude  \\\n",
       "count            183412.000000   183215.000000         183412.000000   \n",
       "mean               -122.352664      136.249123             37.771427   \n",
       "std                   0.117097      111.515131              0.099490   \n",
       "min                -122.453704        3.000000             37.317298   \n",
       "25%                -122.412408       44.000000             37.770407   \n",
       "50%                -122.398285      100.000000             37.781010   \n",
       "75%                -122.286533      235.000000             37.797320   \n",
       "max                -121.874119      398.000000             37.880222   \n",
       "\n",
       "       end_station_longitude        bike_id  member_birth_year  \n",
       "count          183412.000000  183412.000000      175147.000000  \n",
       "mean             -122.352250    4472.906375        1984.806437  \n",
       "std                 0.116673    1664.383394          10.116689  \n",
       "min              -122.453704      11.000000        1878.000000  \n",
       "25%              -122.411726    3777.000000        1980.000000  \n",
       "50%              -122.398279    4958.000000        1987.000000  \n",
       "75%              -122.288045    5502.000000        1992.000000  \n",
       "max              -121.874119    6645.000000        2001.000000  "
      ]
     },
     "execution_count": 5,
     "metadata": {},
     "output_type": "execute_result"
    }
   ],
   "source": [
    "df.describe()"
   ]
  },
  {
   "cell_type": "code",
   "execution_count": 6,
   "metadata": {},
   "outputs": [
    {
     "name": "stdout",
     "output_type": "stream",
     "text": [
      "['Customer' 'Subscriber']\n",
      "['No' 'Yes']\n",
      "['Male' nan 'Other' 'Female']\n"
     ]
    }
   ],
   "source": [
    "print(df.user_type.unique())\n",
    "print(df.bike_share_for_all_trip.unique())\n",
    "print(df.member_gender.unique())\n",
    "\n"
   ]
  },
  {
   "cell_type": "markdown",
   "metadata": {},
   "source": [
    "# Data cleaning\n",
    "\n",
    "deleting unwanted data"
   ]
  },
  {
   "cell_type": "code",
   "execution_count": 79,
   "metadata": {
    "scrolled": true
   },
   "outputs": [
    {
     "data": {
      "text/html": [
       "<div>\n",
       "<style scoped>\n",
       "    .dataframe tbody tr th:only-of-type {\n",
       "        vertical-align: middle;\n",
       "    }\n",
       "\n",
       "    .dataframe tbody tr th {\n",
       "        vertical-align: top;\n",
       "    }\n",
       "\n",
       "    .dataframe thead th {\n",
       "        text-align: right;\n",
       "    }\n",
       "</style>\n",
       "<table border=\"1\" class=\"dataframe\">\n",
       "  <thead>\n",
       "    <tr style=\"text-align: right;\">\n",
       "      <th></th>\n",
       "      <th>duration_sec</th>\n",
       "      <th>user_type</th>\n",
       "      <th>member_birth_year</th>\n",
       "      <th>member_gender</th>\n",
       "      <th>bike_share_for_all_trip</th>\n",
       "    </tr>\n",
       "  </thead>\n",
       "  <tbody>\n",
       "    <tr>\n",
       "      <th>0</th>\n",
       "      <td>52185</td>\n",
       "      <td>Customer</td>\n",
       "      <td>1984.0</td>\n",
       "      <td>Male</td>\n",
       "      <td>No</td>\n",
       "    </tr>\n",
       "    <tr>\n",
       "      <th>1</th>\n",
       "      <td>42521</td>\n",
       "      <td>Customer</td>\n",
       "      <td>NaN</td>\n",
       "      <td>NaN</td>\n",
       "      <td>No</td>\n",
       "    </tr>\n",
       "    <tr>\n",
       "      <th>2</th>\n",
       "      <td>61854</td>\n",
       "      <td>Customer</td>\n",
       "      <td>1972.0</td>\n",
       "      <td>Male</td>\n",
       "      <td>No</td>\n",
       "    </tr>\n",
       "    <tr>\n",
       "      <th>3</th>\n",
       "      <td>36490</td>\n",
       "      <td>Subscriber</td>\n",
       "      <td>1989.0</td>\n",
       "      <td>Other</td>\n",
       "      <td>No</td>\n",
       "    </tr>\n",
       "    <tr>\n",
       "      <th>4</th>\n",
       "      <td>1585</td>\n",
       "      <td>Subscriber</td>\n",
       "      <td>1974.0</td>\n",
       "      <td>Male</td>\n",
       "      <td>Yes</td>\n",
       "    </tr>\n",
       "  </tbody>\n",
       "</table>\n",
       "</div>"
      ],
      "text/plain": [
       "   duration_sec   user_type  member_birth_year member_gender  \\\n",
       "0         52185    Customer             1984.0          Male   \n",
       "1         42521    Customer                NaN           NaN   \n",
       "2         61854    Customer             1972.0          Male   \n",
       "3         36490  Subscriber             1989.0         Other   \n",
       "4          1585  Subscriber             1974.0          Male   \n",
       "\n",
       "  bike_share_for_all_trip  \n",
       "0                      No  \n",
       "1                      No  \n",
       "2                      No  \n",
       "3                      No  \n",
       "4                     Yes  "
      ]
     },
     "execution_count": 79,
     "metadata": {},
     "output_type": "execute_result"
    }
   ],
   "source": [
    "df_clean = df.drop(['start_station_id','start_station_name','start_station_latitude'\n",
    "                    ,'start_station_longitude', 'end_station_id','end_station_name',\n",
    "                    'end_station_latitude','end_station_longitude','start_time','end_time','bike_id'],axis = 1)\n",
    "\n",
    "df_clean.head()"
   ]
  },
  {
   "cell_type": "code",
   "execution_count": 8,
   "metadata": {
    "scrolled": true
   },
   "outputs": [
    {
     "data": {
      "text/plain": [
       "duration_sec                  0\n",
       "bike_id                       0\n",
       "user_type                     0\n",
       "member_birth_year          8265\n",
       "member_gender              8265\n",
       "bike_share_for_all_trip       0\n",
       "dtype: int64"
      ]
     },
     "execution_count": 8,
     "metadata": {},
     "output_type": "execute_result"
    }
   ],
   "source": [
    "df_clean.isna().sum()"
   ]
  },
  {
   "cell_type": "markdown",
   "metadata": {},
   "source": [
    "### What is the structure of your dataset?\n",
    "\n",
    "> there is about 180000 observations in this data set some of the columns were trimmed since i couldnt find them useful.\n",
    "The data include duration of the bikeshare , if it was shared for all the trip , gender of the person , type of the user\n",
    "### What is/are the main feature(s) of interest in your dataset?\n",
    "\n",
    "> will be interesting to know if the duration of the ride will be affected by other variables \n",
    "\n",
    "### What features in the dataset do you think will help support your investigation into your feature(s) of interest?\n",
    "\n",
    "> duration of the ride will be the most useful."
   ]
  },
  {
   "cell_type": "markdown",
   "metadata": {},
   "source": [
    "## Univariate Exploration\n",
    "\n",
    "> In this section, investigate distributions of individual variables. If\n",
    "you see unusual points or outliers, take a deeper look to clean things up\n",
    "and prepare yourself to look at relationships between variables.\n",
    "\n",
    "I will start by looking at the distribution of th emain variable of interest: duration."
   ]
  },
  {
   "cell_type": "code",
   "execution_count": 9,
   "metadata": {
    "scrolled": true
   },
   "outputs": [
    {
     "data": {
      "image/png": "[encoded data removed]",
      "text/plain": [
       "<Figure size 432x288 with 1 Axes>"
      ]
     },
     "metadata": {
      "needs_background": "light"
     },
     "output_type": "display_data"
    }
   ],
   "source": [
    "bins = np.arange(0,5000,100)\n",
    "plt.hist(data = df_clean, x= 'duration_sec',bins = bins);\n",
    "plt.xlabel('Duration of trip (seconds)')\n",
    "plt.ylabel('Count');"
   ]
  },
  {
   "cell_type": "markdown",
   "metadata": {},
   "source": [
    "> looks like most of trips are less than 1000seconds long but lets take a better look using a logerthmic scale"
   ]
  },
  {
   "cell_type": "code",
   "execution_count": 145,
   "metadata": {
    "scrolled": true
   },
   "outputs": [
    {
     "data": {
      "image/png": "[encoded data removed]",
      "text/plain": [
       "<Figure size 432x288 with 1 Axes>"
      ]
     },
     "metadata": {
      "needs_background": "light"
     },
     "output_type": "display_data"
    }
   ],
   "source": [
    "bins = 10**np.arange(1.5,np.log10(df_clean.duration_sec.max()),0.025)\n",
    "\n",
    "plt.hist(data = df_clean, x= 'duration_sec', bins = bins);\n",
    "plt.xscale('log')\n",
    "plt.xlabel('Duration of trip (seconds)')\n",
    "plt.xticks([100,300,500,1000,3000,10000,30000,100000],[100,300,500,1000,3000,10000,30000,100000]) \n",
    "plt.ylabel('Count');\n",
    "plt.show()"
   ]
  },
  {
   "cell_type": "code",
   "execution_count": 72,
   "metadata": {
    "scrolled": true
   },
   "outputs": [
    {
     "data": {
      "image/png": "[encoded data removed]",
      "text/plain": [
       "<Figure size 432x288 with 1 Axes>"
      ]
     },
     "metadata": {},
     "output_type": "display_data"
    }
   ],
   "source": [
    "df.user_type.value_counts().plot.pie()\n",
    "plt.xticks(rotation = 0);"
   ]
  },
  {
   "cell_type": "code",
   "execution_count": 48,
   "metadata": {
    "scrolled": true
   },
   "outputs": [
    {
     "data": {
      "image/png": "[encoded data removed]",
      "text/plain": [
       "<Figure size 432x288 with 1 Axes>"
      ]
     },
     "metadata": {
      "needs_background": "light"
     },
     "output_type": "display_data"
    }
   ],
   "source": [
    "df.member_gender.value_counts().plot.bar()\n",
    "plt.xticks(rotation = 0);"
   ]
  },
  {
   "cell_type": "code",
   "execution_count": 50,
   "metadata": {
    "scrolled": true
   },
   "outputs": [
    {
     "data": {
      "image/png": "[encoded data removed]",
      "text/plain": [
       "<Figure size 432x288 with 1 Axes>"
      ]
     },
     "metadata": {
      "needs_background": "light"
     },
     "output_type": "display_data"
    }
   ],
   "source": [
    "df.bike_share_for_all_trip.value_counts().plot.bar()\n",
    "plt.xticks(rotation = 0);"
   ]
  },
  {
   "cell_type": "code",
   "execution_count": 67,
   "metadata": {
    "scrolled": false
   },
   "outputs": [
    {
     "data": {
      "image/png": "[encoded data removed]",
      "text/plain": [
       "<Figure size 432x288 with 1 Axes>"
      ]
     },
     "metadata": {
      "needs_background": "light"
     },
     "output_type": "display_data"
    }
   ],
   "source": [
    "df.member_birth_year.hist(grid = False);\n",
    "plt.xlim(1920);"
   ]
  },
  {
   "cell_type": "markdown",
   "metadata": {},
   "source": [
    "### Discuss the distribution(s) of your variable(s) of interest. Were there any unusual points? Did you need to perform any transformations?\n",
    "\n",
    "> most of trip durations are about 600secs long\n",
    "\n",
    ">there are more subscribers than customers\n",
    "\n",
    "> other genders are rare but most interesting that female users are much lower than males\n",
    "\n",
    ">most people dont bike share for all of the trip\n",
    "\n",
    "> and finally not alot of old people use the app and its mostly younger people\n",
    "\n",
    "\n",
    "### Of the features you investigated, were there any unusual distributions? Did you perform any operations on the data to tidy, adjust, or change the form of the data? If so, why did you do this?\n",
    "\n",
    "> the duration histogram appeared to be long tailed so it was plotted on a log scale to look more natural and understandable"
   ]
  },
  {
   "cell_type": "markdown",
   "metadata": {},
   "source": [
    "## Bivariate Exploration\n",
    "\n",
    "> In this section, investigate relationships between pairs of variables in your\n",
    "data. Make sure the variables that you cover here have been introduced in some\n",
    "fashion in the previous section (univariate exploration)."
   ]
  },
  {
   "cell_type": "code",
   "execution_count": 80,
   "metadata": {},
   "outputs": [],
   "source": [
    "numeric_vars = ['duration_sec', 'member_birth_year']\n",
    "categoric_vars = ['user_type', 'member_gender', 'bike_share_for_all_trip']"
   ]
  },
  {
   "cell_type": "code",
   "execution_count": 133,
   "metadata": {
    "scrolled": false
   },
   "outputs": [
    {
     "data": {
      "text/plain": [
       "<matplotlib.collections.PathCollection at 0x1be644fc100>"
      ]
     },
     "execution_count": 133,
     "metadata": {},
     "output_type": "execute_result"
    },
    {
     "data": {
      "image/png": "[encoded data removed]",
      "text/plain": [
       "<Figure size 432x288 with 1 Axes>"
      ]
     },
     "metadata": {
      "needs_background": "light"
     },
     "output_type": "display_data"
    }
   ],
   "source": [
    "plt.scatter(data = df_clean, x = 'member_birth_year',y = 'duration_sec', alpha = 0.1)"
   ]
  },
  {
   "cell_type": "markdown",
   "metadata": {},
   "source": [
    "#### People who ride for longer duration are usually younger and the app is usually used by the younger generation"
   ]
  },
  {
   "cell_type": "code",
   "execution_count": 111,
   "metadata": {
    "scrolled": false
   },
   "outputs": [
    {
     "data": {
      "text/plain": [
       "(0.0, 3000.0)"
      ]
     },
     "execution_count": 111,
     "metadata": {},
     "output_type": "execute_result"
    },
    {
     "data": {
      "image/png": "[encoded data removed]",
      "text/plain": [
       "<Figure size 432x288 with 1 Axes>"
      ]
     },
     "metadata": {
      "needs_background": "light"
     },
     "output_type": "display_data"
    }
   ],
   "source": [
    "sb.violinplot(data = df_clean,x = 'member_gender', y = 'duration_sec')\n",
    "plt.ylim(0,3000)"
   ]
  },
  {
   "cell_type": "markdown",
   "metadata": {},
   "source": [
    "#### need further investigation"
   ]
  },
  {
   "cell_type": "code",
   "execution_count": 110,
   "metadata": {
    "scrolled": false
   },
   "outputs": [
    {
     "data": {
      "text/plain": [
       "(0.0, 3000.0)"
      ]
     },
     "execution_count": 110,
     "metadata": {},
     "output_type": "execute_result"
    },
    {
     "data": {
      "image/png": "[encoded data removed]",
      "text/plain": [
       "<Figure size 432x288 with 1 Axes>"
      ]
     },
     "metadata": {
      "needs_background": "light"
     },
     "output_type": "display_data"
    }
   ],
   "source": [
    "sb.violinplot(data = df_clean,x = 'user_type', y = 'duration_sec')\n",
    "plt.ylim(0,3000)"
   ]
  },
  {
   "cell_type": "markdown",
   "metadata": {},
   "source": [
    "#### customers have a higher duration of ride more than the subscribers"
   ]
  },
  {
   "cell_type": "code",
   "execution_count": 109,
   "metadata": {
    "scrolled": false
   },
   "outputs": [
    {
     "data": {
      "text/plain": [
       "(0.0, 3000.0)"
      ]
     },
     "execution_count": 109,
     "metadata": {},
     "output_type": "execute_result"
    },
    {
     "data": {
      "image/png": "[encoded data removed]",
      "text/plain": [
       "<Figure size 432x288 with 1 Axes>"
      ]
     },
     "metadata": {
      "needs_background": "light"
     },
     "output_type": "display_data"
    }
   ],
   "source": [
    "sb.violinplot(data = df_clean,x = 'bike_share_for_all_trip', y = 'duration_sec')\n",
    "plt.ylim(0,3000)"
   ]
  },
  {
   "cell_type": "markdown",
   "metadata": {},
   "source": [
    "##### #shows that subscribes indeed has less duration time but that also females usually have more duration time in all gender types"
   ]
  },
  {
   "cell_type": "code",
   "execution_count": 118,
   "metadata": {
    "scrolled": false
   },
   "outputs": [
    {
     "data": {
      "text/plain": [
       "(0.0, 3000.0)"
      ]
     },
     "execution_count": 118,
     "metadata": {},
     "output_type": "execute_result"
    },
    {
     "data": {
      "image/png": "[encoded data removed]",
      "text/plain": [
       "<Figure size 450.375x360 with 1 Axes>"
      ]
     },
     "metadata": {
      "needs_background": "light"
     },
     "output_type": "display_data"
    }
   ],
   "source": [
    "g = sb.catplot(x=\"user_type\", y=\"duration_sec\", hue=\"member_gender\",\n",
    "            kind=\"box\", data=df_clean)\n",
    "plt.ylim(0,3000)\n",
    "\n"
   ]
  },
  {
   "cell_type": "markdown",
   "metadata": {},
   "source": [
    "#### subscribes indeed has less duration time but that also females usually have more duration time in all gender types"
   ]
  },
  {
   "cell_type": "code",
   "execution_count": 119,
   "metadata": {
    "scrolled": true
   },
   "outputs": [
    {
     "data": {
      "text/plain": [
       "(0.0, 3000.0)"
      ]
     },
     "execution_count": 119,
     "metadata": {},
     "output_type": "execute_result"
    },
    {
     "data": {
      "image/png": "[encoded data removed]",
      "text/plain": [
       "<Figure size 479.125x360 with 1 Axes>"
      ]
     },
     "metadata": {
      "needs_background": "light"
     },
     "output_type": "display_data"
    }
   ],
   "source": [
    "g = sb.catplot(x=\"user_type\", y=\"duration_sec\", hue=\"bike_share_for_all_trip\",\n",
    "            kind=\"box\", data=df_clean)\n",
    "plt.ylim(0,3000)"
   ]
  },
  {
   "cell_type": "markdown",
   "metadata": {},
   "source": [
    "#### people who bike share for all trips have the lowest duration "
   ]
  },
  {
   "cell_type": "markdown",
   "metadata": {},
   "source": [
    "### Talk about some of the relationships you observed in this part of the investigation. How did the feature(s) of interest vary with other features in the dataset?\n",
    "\n",
    "> People who ride for longer duration are usually younger and the app is usually used by the younger generation\n",
    "\n",
    "\n",
    ">bike share for all trip doesnt matter with duration of the ride\n",
    "\n",
    "> subscribes have less duration time but that also females usually have more duration time in all gender types\n",
    "\n",
    "> people who bike share for all trips have the lowest duration \n",
    "\n",
    "### Did you observe any interesting relationships between the other features (not the main feature(s) of interest)?\n",
    "\n",
    "> other genders have the same duration time in subscribe user types but the lowest duration time in customer use types\n",
    "> customers dont bike share for all trip"
   ]
  },
  {
   "cell_type": "markdown",
   "metadata": {},
   "source": [
    "## Multivariate Exploration\n",
    "\n"
   ]
  },
  {
   "cell_type": "code",
   "execution_count": 120,
   "metadata": {},
   "outputs": [
    {
     "data": {
      "text/html": [
       "<div>\n",
       "<style scoped>\n",
       "    .dataframe tbody tr th:only-of-type {\n",
       "        vertical-align: middle;\n",
       "    }\n",
       "\n",
       "    .dataframe tbody tr th {\n",
       "        vertical-align: top;\n",
       "    }\n",
       "\n",
       "    .dataframe thead th {\n",
       "        text-align: right;\n",
       "    }\n",
       "</style>\n",
       "<table border=\"1\" class=\"dataframe\">\n",
       "  <thead>\n",
       "    <tr style=\"text-align: right;\">\n",
       "      <th></th>\n",
       "      <th>duration_sec</th>\n",
       "      <th>user_type</th>\n",
       "      <th>member_birth_year</th>\n",
       "      <th>member_gender</th>\n",
       "      <th>bike_share_for_all_trip</th>\n",
       "    </tr>\n",
       "  </thead>\n",
       "  <tbody>\n",
       "    <tr>\n",
       "      <th>0</th>\n",
       "      <td>52185</td>\n",
       "      <td>Customer</td>\n",
       "      <td>1984.0</td>\n",
       "      <td>Male</td>\n",
       "      <td>No</td>\n",
       "    </tr>\n",
       "    <tr>\n",
       "      <th>1</th>\n",
       "      <td>42521</td>\n",
       "      <td>Customer</td>\n",
       "      <td>NaN</td>\n",
       "      <td>NaN</td>\n",
       "      <td>No</td>\n",
       "    </tr>\n",
       "    <tr>\n",
       "      <th>2</th>\n",
       "      <td>61854</td>\n",
       "      <td>Customer</td>\n",
       "      <td>1972.0</td>\n",
       "      <td>Male</td>\n",
       "      <td>No</td>\n",
       "    </tr>\n",
       "    <tr>\n",
       "      <th>3</th>\n",
       "      <td>36490</td>\n",
       "      <td>Subscriber</td>\n",
       "      <td>1989.0</td>\n",
       "      <td>Other</td>\n",
       "      <td>No</td>\n",
       "    </tr>\n",
       "    <tr>\n",
       "      <th>4</th>\n",
       "      <td>1585</td>\n",
       "      <td>Subscriber</td>\n",
       "      <td>1974.0</td>\n",
       "      <td>Male</td>\n",
       "      <td>Yes</td>\n",
       "    </tr>\n",
       "  </tbody>\n",
       "</table>\n",
       "</div>"
      ],
      "text/plain": [
       "   duration_sec   user_type  member_birth_year member_gender  \\\n",
       "0         52185    Customer             1984.0          Male   \n",
       "1         42521    Customer                NaN           NaN   \n",
       "2         61854    Customer             1972.0          Male   \n",
       "3         36490  Subscriber             1989.0         Other   \n",
       "4          1585  Subscriber             1974.0          Male   \n",
       "\n",
       "  bike_share_for_all_trip  \n",
       "0                      No  \n",
       "1                      No  \n",
       "2                      No  \n",
       "3                      No  \n",
       "4                     Yes  "
      ]
     },
     "execution_count": 120,
     "metadata": {},
     "output_type": "execute_result"
    }
   ],
   "source": [
    "df_clean.head()"
   ]
  },
  {
   "cell_type": "code",
   "execution_count": 135,
   "metadata": {
    "scrolled": true
   },
   "outputs": [
    {
     "data": {
      "image/png": "[encoded data removed]",
      "text/plain": [
       "<Figure size 432x288 with 1 Axes>"
      ]
     },
     "metadata": {
      "needs_background": "light"
     },
     "output_type": "display_data"
    }
   ],
   "source": [
    "g = sb.pointplot(data = df_clean, x='bike_share_for_all_trip', y = 'duration_sec', hue = 'member_gender'\n",
    "                 , linestyles = '', dodge = 0.4)"
   ]
  },
  {
   "cell_type": "markdown",
   "metadata": {},
   "source": [
    "#### other genders bike share for all trip the most and men the least"
   ]
  },
  {
   "cell_type": "markdown",
   "metadata": {},
   "source": [
    "### Talk about some of the relationships you observed in this part of the investigation. Were there features that strengthened each other in terms of looking at your feature(s) of interest?\n",
    "\n",
    "> males have the lowest bike sharing rate white other genders ate the most and females are in the middle\n",
    "\n",
    "### Were there any interesting or surprising interactions between features?\n",
    "\n",
    "> yes that other genders bike share for all trip the most and men the least"
   ]
  }
 ],
 "metadata": {
  "kernelspec": {
   "display_name": "Python 3",
   "language": "python",
   "name": "python3"
  },
  "language_info": {
   "codemirror_mode": {
    "name": "ipython",
    "version": 3
   },
   "file_extension": ".py",
   "mimetype": "text/x-python",
   "name": "python",
   "nbconvert_exporter": "python",
   "pygments_lexer": "ipython3",
   "version": "3.8.5"
  }
 },
 "nbformat": 4,
 "nbformat_minor": 2
}
